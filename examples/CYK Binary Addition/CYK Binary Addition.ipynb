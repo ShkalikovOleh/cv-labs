{
 "cells": [
  {
   "cell_type": "markdown",
   "metadata": {},
   "source": [
    "# Алгоритм Кока-Янгера-Касамі для перевірки бінарного додавання у стовпчик\n",
    "*Шкаліков Олег, ФІ-81*"
   ]
  },
  {
   "cell_type": "code",
   "execution_count": 1,
   "metadata": {},
   "outputs": [],
   "source": [
    "import numpy as np\n",
    "\n",
    "from matplotlib import pyplot as plt\n",
    "from PIL import Image\n",
    "\n",
    "from cv.grammar import BinaryAdditionGrammar, cyk"
   ]
  },
  {
   "cell_type": "markdown",
   "metadata": {},
   "source": [
    "Завантажимо у відповідні масиви маски термінальних символів $0$ та $1$."
   ]
  },
  {
   "cell_type": "code",
   "execution_count": 2,
   "metadata": {},
   "outputs": [],
   "source": [
    "zero_mask = ~np.asarray(Image.open('masks/0.png').convert('L'), dtype=bool)\n",
    "one_mask = ~np.asarray(Image.open('masks/1.png', ).convert('L'), dtype=bool)"
   ]
  },
  {
   "cell_type": "markdown",
   "metadata": {},
   "source": [
    "Створимо функцію, яка дозволить генерувати приклад з масок"
   ]
  },
  {
   "cell_type": "code",
   "execution_count": 3,
   "metadata": {},
   "outputs": [],
   "source": [
    "def generate_image(equation):\n",
    "    columns = []    \n",
    "    for j in range(equation.shape[1]):\n",
    "        rows = []\n",
    "        for i in range(3):\n",
    "            if equation[i, j] == 1:\n",
    "                rows.append(one_mask)\n",
    "            elif equation[i, j] == 0:\n",
    "                rows.append(zero_mask)\n",
    "        columns.append(np.vstack(rows))\n",
    "\n",
    "    return np.hstack(columns)"
   ]
  },
  {
   "cell_type": "code",
   "execution_count": 4,
   "metadata": {},
   "outputs": [],
   "source": [
    "eq = np.array([[1, 1, 0, 1, 1],\n",
    "               [1, 0, 1, 0, 1],\n",
    "               [1, 0, 0, 0, 0]])\n",
    "eq_image = generate_image(eq)"
   ]
  },
  {
   "cell_type": "markdown",
   "metadata": {},
   "source": [
    "Якщо ж ви хочете використати свої власні чорно-білі зображення, то розкоментуйте комірку нижче та вкажіть правильний шлях"
   ]
  },
  {
   "cell_type": "code",
   "execution_count": 5,
   "metadata": {},
   "outputs": [],
   "source": [
    "# path = 'test_eq.png' #your path here\n",
    "# eq_image = ~np.asarray(Image.open(path).convert('L'), dtype=bool)"
   ]
  },
  {
   "cell_type": "markdown",
   "metadata": {},
   "source": [
    "Зобразимо той приклад, правильність якого ми будемо намагатися дізнатися за допомогою нашої 2-вимірної граматики"
   ]
  },
  {
   "cell_type": "code",
   "execution_count": 6,
   "metadata": {},
   "outputs": [
    {
     "data": {
      "text/plain": [
       "<matplotlib.image.AxesImage at 0x7f935c5cf8e0>"
      ]
     },
     "execution_count": 6,
     "metadata": {},
     "output_type": "execute_result"
    },
    {
     "data": {
      "image/png": "[encoded data removed]",
      "text/plain": [
       "<Figure size 432x288 with 1 Axes>"
      ]
     },
     "metadata": {
      "needs_background": "light"
     },
     "output_type": "display_data"
    }
   ],
   "source": [
    "plt.imshow(eq_image, cmap='gray_r')"
   ]
  },
  {
   "cell_type": "markdown",
   "metadata": {},
   "source": [
    "Створимо граматику, передавши у якості параметрів маски $0$ та $1$"
   ]
  },
  {
   "cell_type": "code",
   "execution_count": 7,
   "metadata": {},
   "outputs": [],
   "source": [
    "grammar = BinaryAdditionGrammar(zero_mask, one_mask)"
   ]
  },
  {
   "cell_type": "markdown",
   "metadata": {},
   "source": [
    "У граматиці є 2 початкових символа, один з них відповідає тому, що приклад є правильним, а другий тому, що зліва потрібен ще біт переносу. Створимо функції, яка допоможе за результатом роботи алгоритму вказувати на це"
   ]
  },
  {
   "cell_type": "code",
   "execution_count": 8,
   "metadata": {},
   "outputs": [],
   "source": [
    "def check_binary_addition(image, grammar): \n",
    "    res = cyk(image, grammar)    \n",
    "    if res[0]:\n",
    "        print('Equation is correct')\n",
    "    elif res[1]:\n",
    "        print('Equation requires carry bit')\n",
    "    else:\n",
    "        print('Equation is incorrect')"
   ]
  },
  {
   "cell_type": "markdown",
   "metadata": {},
   "source": [
    "Й на сам кінець, запустимо алгоритм"
   ]
  },
  {
   "cell_type": "code",
   "execution_count": 9,
   "metadata": {},
   "outputs": [
    {
     "name": "stdout",
     "output_type": "stream",
     "text": [
      "Equation requires carry bit\n"
     ]
    }
   ],
   "source": [
    "check_binary_addition(eq_image, grammar)"
   ]
  },
  {
   "cell_type": "markdown",
   "metadata": {},
   "source": [
    "Як ми бачимо, відповідь правильна!"
   ]
  }
 ],
 "metadata": {
  "interpreter": {
   "hash": "e31ad8cf8b2345155e80fe0f3c68efc54966776518b9d8258ed99fc83b349c83"
  },
  "kernelspec": {
   "display_name": "Python 3.8.10 64-bit ('.venv': venv)",
   "language": "python",
   "name": "python3"
  },
  "language_info": {
   "codemirror_mode": {
    "name": "ipython",
    "version": 3
   },
   "file_extension": ".py",
   "mimetype": "text/x-python",
   "name": "python",
   "nbconvert_exporter": "python",
   "pygments_lexer": "ipython3",
   "version": "3.8.10"
  },
  "orig_nbformat": 4
 },
 "nbformat": 4,
 "nbformat_minor": 2
}
