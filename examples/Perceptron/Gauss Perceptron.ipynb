{
 "cells": [
  {
   "cell_type": "code",
   "execution_count": 1,
   "metadata": {},
   "outputs": [],
   "source": [
    "from jax import numpy as jnp\n",
    "from matplotlib import pyplot as plt\n",
    "from cv.supervised import GaussPerceptron"
   ]
  },
  {
   "cell_type": "markdown",
   "metadata": {},
   "source": [
    "Спочатку завантажимо у пам'ять наші вибірки та зобразимо їх на графіках. Зауважу, що попередньо я вже трансфорував дані з формату `json` у формат `npy`"
   ]
  },
  {
   "cell_type": "code",
   "execution_count": 2,
   "metadata": {},
   "outputs": [],
   "source": [
    "data1 = jnp.load('train1.npy')\n",
    "data2 = jnp.load('train2.npy')"
   ]
  },
  {
   "cell_type": "markdown",
   "metadata": {},
   "source": [
    "Розділимо мітки класів та фічі."
   ]
  },
  {
   "cell_type": "code",
   "execution_count": 3,
   "metadata": {},
   "outputs": [],
   "source": [
    "X1 = data1[:, :-1]\n",
    "Y1 = data1[:, -1]\n",
    "\n",
    "X2 = data2[:, :-1]\n",
    "Y2 = data2[:, -1]"
   ]
  },
  {
   "cell_type": "markdown",
   "metadata": {},
   "source": [
    "Поглянемо на перший датасет"
   ]
  },
  {
   "cell_type": "code",
   "execution_count": 4,
   "metadata": {},
   "outputs": [],
   "source": [
    "def plot_dataset(X, Y):\n",
    "    plt.scatter(X[Y == 1][:, 0], X[Y == 1][:, 1], label='outside')\n",
    "    plt.scatter(X[Y == -1][:, 0], X[Y == -1][:, 1], label='inside')\n",
    "    plt.legend()"
   ]
  },
  {
   "cell_type": "code",
   "execution_count": 5,
   "metadata": {},
   "outputs": [
    {
     "data": {
      "image/png": "[encoded data removed]",
      "text/plain": [
       "<Figure size 432x288 with 1 Axes>"
      ]
     },
     "metadata": {
      "needs_background": "light"
     },
     "output_type": "display_data"
    }
   ],
   "source": [
    "plot_dataset(X1, Y1)"
   ]
  },
  {
   "cell_type": "markdown",
   "metadata": {},
   "source": [
    "Зобразимо на графіку 2 датасет"
   ]
  },
  {
   "cell_type": "code",
   "execution_count": 6,
   "metadata": {},
   "outputs": [
    {
     "data": {
      "image/png": "[encoded data removed]",
      "text/plain": [
       "<Figure size 432x288 with 1 Axes>"
      ]
     },
     "metadata": {
      "needs_background": "light"
     },
     "output_type": "display_data"
    }
   ],
   "source": [
    "plot_dataset(X2, Y2)"
   ]
  },
  {
   "cell_type": "markdown",
   "metadata": {},
   "source": [
    "Завдання полягає у тому, що на базі персептрона треба розробити алгоритм\n",
    "оцінки параметрів нормального розводілу та порового значення \n",
    "за наявності емпіричного матеріалу $T \\in (R^n \\times \\{ \\pm 1 \\})^m$, для якого точно відомо, \n",
    "що існують такі $\\Sigma$(матриця коваріацій), $\\mu$(середнє) та $\\theta$(порогове значення).\n",
    "\n",
    "Запишемо функцію щільності нормального розподілу\n",
    "$$ p(x) = \\frac{1}{\\sqrt{(2\\pi)^n \\det \\Sigma}} \\exp\\left\\{-\\frac{1}{2} (x-\\mu)^T \\Sigma^{-1} (x-\\mu) \\right\\} > \\theta $$\n",
    "\n",
    "Прогогарифмуємо цей вираз\n",
    "$$ -\\frac{1}{2} \\ln \\left[(2\\pi)^n \\det \\Sigma \\right] - \\frac{1}{2} (x-\\mu)^T \\Sigma^{-1} (x-\\mu) - \\ln \\theta > 0 $$\n",
    "\n",
    "Помножимо на -2 та розпишемо за білінійністю квадратичну форму\n",
    "$$ (x-\\mu)^T \\Sigma^{-1} (x-\\mu) + \\ln \\left[(2\\pi)^n \\det \\Sigma \\right] + 2 \\ln \\theta < 0 $$\n",
    "$$ x^T \\Sigma^{-1} x - 2 \\mu^T \\Sigma^{-1} x + \\mu^T \\Sigma^{-1} \\mu + \\ln \\left[(2\\pi)^n \\det \\Sigma \\right] + 2 \\ln \\theta < 0 $$\n",
    "\n",
    "Перепозначимо деякі величини:\n",
    "$$ \\eta = -2 \\mu^T \\Sigma^{-1} \\implies \\mu = -\\frac{\\eta \\Sigma}{2} $$\n",
    "$$ c =  \\mu^T \\Sigma^{-1} \\mu + \\ln \\left[(2\\pi)^n \\det \\Sigma \\right] + 2 \\ln \\theta \\implies\n",
    "\\theta = \\frac{1}{\\sqrt{(2\\pi)^n \\det \\Sigma}} \\exp \\left\\{ \\frac{c - \\mu^T \\Sigma^{-1} \\mu}{2}  \\right\\} $$\n",
    "\n",
    "Таким чином маємо наступне\n",
    "$$ \\sum\\limits_{i,j=1}^{n} x_i \\sigma_{i,j} x_j + \\sum\\limits_{i=1}^{n} \\eta_i x_i + c < 0 $$\n",
    "\n",
    "Відповідно, наша задача зводиться до такої, яку може розв'язати персептрон, якщо ми наступним чином трансформуємо наш емпіричний матеріал і оберемо такий вигляд \"вектора вагів\"\n",
    "$$ \n",
    "\\varphi(x) = \\begin{pmatrix}\n",
    "    x_1x_1 \\\\\n",
    "    x_1x_2 \\\\\n",
    "    \\vdots \\\\\n",
    "    x_nx_n \\\\\n",
    "    x_1 \\\\\n",
    "    \\vdots \\\\\n",
    "    x_n \\\\\n",
    "    1\n",
    "\\end{pmatrix} \n",
    "\\hspace{1cm}\n",
    "\\omega = \\begin{pmatrix}\n",
    "    \\sigma_{11}^{-1} \\\\\n",
    "    \\sigma_{12}^{-1} \\\\\n",
    "    \\vdots \\\\\n",
    "    \\sigma_{nn}^{-1} \\\\\n",
    "    \\eta_1 \\\\\n",
    "    \\vdots \\\\\n",
    "    \\eta_n \\\\\n",
    "    c\n",
    "\\end{pmatrix}\n",
    "\\hspace{1cm}\n",
    "\\varphi(x)^T\\omega < 0\n",
    "$$"
   ]
  },
  {
   "cell_type": "markdown",
   "metadata": {},
   "source": [
    "Як ми бачимо, знак нерівності змінився, тому ми повинні змінити й мітки наших класів"
   ]
  },
  {
   "cell_type": "code",
   "execution_count": 7,
   "metadata": {},
   "outputs": [],
   "source": [
    "Y1 = -Y1\n",
    "Y2 = -Y2"
   ]
  },
  {
   "cell_type": "markdown",
   "metadata": {},
   "source": [
    "Але як ми усі чудово знаємо, алгоритм навчання персептрона не гарантує, що значення $\\omega$ будуть такими, що\n",
    "задовольняють ті умови, що ми накладаємо на матрицю коваріацій. Тож з цим треба щось зробити.\n",
    "\n",
    "Відомо, що для кожної симетричної матриці існує спектральний розклад($\\lambda_i$ - i-те власне число, $v_i$ - вектор, що відповідає i-тому власному числу):\n",
    "$$ \n",
    "\\begin{pmatrix}\n",
    "    v_1\n",
    "    \\dots\n",
    "    v_n\n",
    "\\end{pmatrix}\n",
    "\\begin{pmatrix}    \n",
    "    \\lambda_1 & & \\\\\n",
    "    & \\vdots & \\\\\n",
    "    & & \\lambda_n\n",
    "\\end{pmatrix}\n",
    "\\begin{pmatrix}\n",
    "    v_1 \\\\\n",
    "    \\vdots \\\\\n",
    "    v_n\n",
    "\\end{pmatrix}\n",
    "$$\n",
    "\n",
    "Відповідно обернена матриця(якщо існує) обчислюється дуже просто:\n",
    "$$ \n",
    "\\begin{pmatrix}\n",
    "    v_1\n",
    "    \\dots\n",
    "    v_n\n",
    "\\end{pmatrix}\n",
    "\\begin{pmatrix}\n",
    "    \\frac{1}{\\lambda_1} & & \\\\\n",
    "    & \\vdots & \\\\\n",
    "    & & \\frac{1}{\\lambda_n}\n",
    "\\end{pmatrix}\n",
    "\\begin{pmatrix}\n",
    "    v_1 \\\\\n",
    "    \\vdots \\\\\n",
    "    v_n\n",
    "\\end{pmatrix}\n",
    "$$\n",
    "\n",
    "Помітимо, що має місце за умови, що вектор $v_i \\neq 0$\n",
    "$$ \\lambda_i > 0 \\iff v_i^T \\Sigma^{-1} v_i = v_i^T \\lambda_i v_i = ||v_i||^2 \\lambda_i > 0 $$ \n",
    "\n",
    "А отже, властивість додатньої визначеності, у такому разі, можна сформулювати як те, що кожне власне число більше нуля, а отже якщо обернена матриця додатньо визначена, то і сама матриця має таку властивість. Ми, під час роботи алгоритму, оперуємо елементами оберненої матриці до матриці коваріацій, а отже повинні гарантувати, що перші $n^2$ компонент вектора $w$ утворюють додатньо визначену матрицю. Тому будемо просто додавати з міткою классу +1 до нашого навчального матеріалу вектори\n",
    "$ (v^{i}_{1}v^{i}_{1}, v^{i}_{1}v^{i}_{2}, \\dots, v^{i}_{n}v^{i}_{n}, \\underbrace{0, \\dots, 0}_{n+1}) $\n",
    "\n",
    "Зазначу також, що достатньо додати лише один власний вектор з недодатнім власним значення, бо ті, у які відповідають додатнім власним числам і так вже задовольняють умову. А додавання більше одного з недодатнім власним числом не має сенсу, бо після першої ж коррекції треба буде обраховувати власні числа наново, бо зміниться вектор $\\omega$ з якого ми і будуємо матрицю $\\Sigma^{-1}$"
   ]
  },
  {
   "cell_type": "markdown",
   "metadata": {},
   "source": [
    "Також напишемо корисні функції для обрахунку щільності нормально розподілу та зображення результатів навчання наших персептронів"
   ]
  },
  {
   "cell_type": "code",
   "execution_count": 8,
   "metadata": {},
   "outputs": [],
   "source": [
    "def pdf(X, K, m):\n",
    "    n = X.shape[-1]\n",
    "    v = X - m\n",
    "    res = jnp.exp(-0.5 * jnp.einsum('...i,ij,...j', v, jnp.linalg.inv(K), v))\n",
    "    res = res / jnp.sqrt((2*jnp.pi)**n * jnp.linalg.det(K))\n",
    "    return res"
   ]
  },
  {
   "cell_type": "code",
   "execution_count": 9,
   "metadata": {},
   "outputs": [],
   "source": [
    "def plot_with_pdf(gp, X, Y, x_bounds, y_bounds):\n",
    "    x1, x2 = x_bounds\n",
    "    y1, y2 = y_bounds\n",
    "\n",
    "    K, n, theta = gp.learned_parameters\n",
    "\n",
    "    x, y = jnp.mgrid[x1:x2:.01, y1:y2:.01]\n",
    "    points = jnp.dstack((x, y))\n",
    "    density = pdf(points, K, n)\n",
    "\n",
    "    c = plt.contourf(x, y, density)\n",
    "    plt.colorbar(c)\n",
    "    plt.contour(x, y, density, levels=[theta], colors='white', linestyles='dashed')\n",
    "\n",
    "    plt.scatter(X[Y == 1][:, 0], X[Y == 1][:, 1], c='white')\n",
    "    plt.scatter(X[Y == -1][:, 0], X[Y == -1][:, 1], c='red')\n",
    "    plt.scatter(n[0], n[2], marker='*', c='green')"
   ]
  },
  {
   "cell_type": "markdown",
   "metadata": {},
   "source": [
    "Навчимо запропонавану модель на 1 датасеті"
   ]
  },
  {
   "cell_type": "code",
   "execution_count": 10,
   "metadata": {},
   "outputs": [
    {
     "name": "stderr",
     "output_type": "stream",
     "text": [
      "WARNING:absl:No GPU/TPU found, falling back to CPU. (Set TF_CPP_MIN_LOG_LEVEL=0 and rerun for more info.)\n"
     ]
    },
    {
     "data": {
      "text/plain": [
       "<cv.supervised.GaussPerceptron.GaussPerceptron at 0x7f0350b4fac0>"
      ]
     },
     "execution_count": 10,
     "metadata": {},
     "output_type": "execute_result"
    }
   ],
   "source": [
    "gp1 = GaussPerceptron()\n",
    "gp1.fit(X1, Y1)"
   ]
  },
  {
   "cell_type": "code",
   "execution_count": 11,
   "metadata": {},
   "outputs": [
    {
     "data": {
      "image/png": "[encoded data removed]",
      "text/plain": [
       "<Figure size 432x288 with 2 Axes>"
      ]
     },
     "metadata": {
      "needs_background": "light"
     },
     "output_type": "display_data"
    }
   ],
   "source": [
    "plot_with_pdf(gp1, X1, Y1, [-0.5,1.5], [-0.5,1.5])"
   ]
  },
  {
   "cell_type": "markdown",
   "metadata": {},
   "source": [
    "І на сам кінець, навчимо модифікований персептрон на 2 датасеті."
   ]
  },
  {
   "cell_type": "code",
   "execution_count": 12,
   "metadata": {},
   "outputs": [
    {
     "data": {
      "text/plain": [
       "<cv.supervised.GaussPerceptron.GaussPerceptron at 0x7f0350c683a0>"
      ]
     },
     "execution_count": 12,
     "metadata": {},
     "output_type": "execute_result"
    }
   ],
   "source": [
    "gp2 = GaussPerceptron()\n",
    "gp2.fit(X2, Y2)"
   ]
  },
  {
   "cell_type": "code",
   "execution_count": 13,
   "metadata": {},
   "outputs": [
    {
     "data": {
      "image/png": "[encoded data removed]",
      "text/plain": [
       "<Figure size 432x288 with 2 Axes>"
      ]
     },
     "metadata": {
      "needs_background": "light"
     },
     "output_type": "display_data"
    }
   ],
   "source": [
    "plot_with_pdf(gp2, X2, Y2, [-1,1], [-1,1])"
   ]
  }
 ],
 "metadata": {
  "interpreter": {
   "hash": "e31ad8cf8b2345155e80fe0f3c68efc54966776518b9d8258ed99fc83b349c83"
  },
  "kernelspec": {
   "display_name": "Python 3.8.10 64-bit ('.venv': venv)",
   "name": "python3"
  },
  "language_info": {
   "codemirror_mode": {
    "name": "ipython",
    "version": 3
   },
   "file_extension": ".py",
   "mimetype": "text/x-python",
   "name": "python",
   "nbconvert_exporter": "python",
   "pygments_lexer": "ipython3",
   "version": "3.8.10"
  },
  "orig_nbformat": 4
 },
 "nbformat": 4,
 "nbformat_minor": 2
}
